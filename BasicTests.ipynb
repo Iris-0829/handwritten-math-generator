{
 "cells": [
  {
   "cell_type": "code",
   "execution_count": null,
   "metadata": {},
   "outputs": [],
   "source": [
    "from generator import generate, generate_inkml\n",
    "import matplotlib.pyplot as plt\n",
    "import json\n",
    "import html"
   ]
  },
  {
   "cell_type": "code",
   "execution_count": null,
   "metadata": {},
   "outputs": [],
   "source": [
    "def show_exp(listofnumpy):\n",
    "    plt.figure()\n",
    "    for trace in listofnumpy:\n",
    "        plt.plot(trace[0], -trace[1], color='black')\n",
    "        plt.axis('scaled')\n",
    "        plt.axis('off')\n",
    "    plt.show()\n",
    "    "
   ]
  },
  {
   "cell_type": "code",
   "execution_count": null,
   "metadata": {},
   "outputs": [],
   "source": [
    "# Tests\n",
    "traces, math_str, trace_groups, boundingboxes = generate('./tests/FloatingPointTest.txt')\n",
    "show_exp(traces)"
   ]
  },
  {
   "cell_type": "code",
   "execution_count": null,
   "metadata": {},
   "outputs": [],
   "source": [
    "traces = generate('./tests/IntegrationTest.txt')[0]\n",
    "show_exp(traces)"
   ]
  },
  {
   "cell_type": "code",
   "execution_count": null,
   "metadata": {},
   "outputs": [],
   "source": [
    "traces = generate('./tests/MatrixSubExpTest.txt')[0]\n",
    "show_exp(traces)"
   ]
  },
  {
   "cell_type": "code",
   "execution_count": null,
   "metadata": {},
   "outputs": [],
   "source": [
    "traces = generate('./tests/MatrixTest.txt')[0]\n",
    "show_exp(traces)"
   ]
  },
  {
   "cell_type": "code",
   "execution_count": null,
   "metadata": {},
   "outputs": [],
   "source": [
    "traces = generate('./tests/PiecewiseTest.txt')[0]\n",
    "show_exp(traces)"
   ]
  },
  {
   "cell_type": "code",
   "execution_count": null,
   "metadata": {},
   "outputs": [],
   "source": [
    "traces = generate('./tests/PolynomialTest.txt')[0]\n",
    "show_exp(traces)"
   ]
  },
  {
   "cell_type": "code",
   "execution_count": null,
   "metadata": {},
   "outputs": [],
   "source": [
    "traces = generate('./tests/RadicalTest.txt')[0]\n",
    "show_exp(traces)"
   ]
  },
  {
   "cell_type": "code",
   "execution_count": null,
   "metadata": {},
   "outputs": [],
   "source": [
    "traces = generate('./tests/RationalTest.txt')[0]\n",
    "show_exp(traces)"
   ]
  },
  {
   "cell_type": "code",
   "execution_count": null,
   "metadata": {},
   "outputs": [],
   "source": [
    "traces = generate('./tests/SummationTest.txt')[0]\n",
    "show_exp(traces)"
   ]
  },
  {
   "cell_type": "code",
   "execution_count": null,
   "metadata": {},
   "outputs": [],
   "source": [
    "traces = generate('./tests/TrigTest.txt')[0]\n",
    "show_exp(traces)"
   ]
  },
  {
   "cell_type": "code",
   "execution_count": null,
   "metadata": {},
   "outputs": [],
   "source": [
    "traces = generate('$\\displaystyle-\\int_{0}^{\\theta}\\phi^{m}\\ln^{n-m-1}\\left|2\\sin\\frac{\\phi}{2}\\right|d\\phi.$', input_type = 'string')[0]\n",
    "show_exp(traces)"
   ]
  },
  {
   "cell_type": "code",
   "execution_count": null,
   "metadata": {},
   "outputs": [],
   "source": [
    "traces = generate('\\[\\mbox{$\\mathfrak{R}$}_{1}=\\mathbf{B}(\\mathbb{C}^{2})\\otimes I\\]', input_type=\"string\")[0]\n",
    "show_exp(traces)"
   ]
  },
  {
   "cell_type": "code",
   "execution_count": null,
   "metadata": {},
   "outputs": [],
   "source": [
    "# NTCIR test\n",
    "\n",
    "with open('tests/11-parse.json', 'r') as file:\n",
    "    listofexpressions = json.load(file)\n",
    "\n",
    "err = 0\n",
    "for i in range(0, 100):\n",
    "    print(i)\n",
    "    latex_str = '$' + html.unescape(listofexpressions[i]) + '$'\n",
    "    print(latex_str)\n",
    "    try:\n",
    "        numpyarrays = generate(latex_str, input_type = 'string')[0]\n",
    "        show_exp(numpyarrays)\n",
    "    except:\n",
    "        print('Err')\n",
    "        err +=1\n",
    "        pass"
   ]
  },
  {
   "cell_type": "code",
   "execution_count": null,
   "metadata": {},
   "outputs": [],
   "source": [
    "err"
   ]
  },
  {
   "cell_type": "code",
   "execution_count": null,
   "metadata": {},
   "outputs": [],
   "source": []
  }
 ],
 "metadata": {
  "kernelspec": {
   "display_name": "Python 3",
   "language": "python",
   "name": "python3"
  },
  "language_info": {
   "codemirror_mode": {
    "name": "ipython",
    "version": 3
   },
   "file_extension": ".py",
   "mimetype": "text/x-python",
   "name": "python",
   "nbconvert_exporter": "python",
   "pygments_lexer": "ipython3",
   "version": "3.8.6"
  }
 },
 "nbformat": 4,
 "nbformat_minor": 4
}
